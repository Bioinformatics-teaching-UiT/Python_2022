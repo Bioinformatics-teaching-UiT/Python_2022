{
 "cells": [
  {
   "cell_type": "markdown",
   "id": "b970f8a3",
   "metadata": {},
   "source": [
    "## Practice with BioPython"
   ]
  },
  {
   "cell_type": "markdown",
   "id": "fc023097",
   "metadata": {},
   "source": [
    "Step 1. Import the modules you will need."
   ]
  },
  {
   "cell_type": "code",
   "execution_count": 1,
   "id": "f8cb196c",
   "metadata": {},
   "outputs": [],
   "source": [
    "from Bio import SeqIO, SearchIO\n",
    "from Bio.Blast import NCBIWWW"
   ]
  },
  {
   "cell_type": "markdown",
   "id": "fc606871",
   "metadata": {},
   "source": [
    "SeqIO is for reading and writing sequences, SearchIO is for reading results of database queries (like Blast) and NCBIWWW is for sending Blast queries to the server."
   ]
  },
  {
   "cell_type": "code",
   "execution_count": 6,
   "id": "2448c01a",
   "metadata": {},
   "outputs": [],
   "source": [
    "inputfile = 'short_unknown_seq.fasta'\n",
    "unknowngene = SeqIO.read(inputfile, 'fasta')"
   ]
  },
  {
   "cell_type": "code",
   "execution_count": 7,
   "id": "d81a30f4",
   "metadata": {},
   "outputs": [
    {
     "name": "stdout",
     "output_type": "stream",
     "text": [
      "CPU times: user 134 ms, sys: 11.3 ms, total: 145 ms\n",
      "Wall time: 4min 2s\n"
     ]
    }
   ],
   "source": [
    "%%time\n",
    "result = NCBIWWW.qblast(\"blastn\", \"nt\", unknowngene.seq)"
   ]
  },
  {
   "cell_type": "code",
   "execution_count": 8,
   "id": "a97f4274",
   "metadata": {},
   "outputs": [],
   "source": [
    "blastqresult = SearchIO.read(result, \"blast-xml\")"
   ]
  },
  {
   "cell_type": "code",
   "execution_count": 9,
   "id": "12b50a23",
   "metadata": {},
   "outputs": [
    {
     "name": "stdout",
     "output_type": "stream",
     "text": [
      "Program: blastn (2.13.0+)\n",
      "  Query: No (140)\n",
      "         definition line\n",
      " Target: nt\n",
      "   Hits: ----  -----  ----------------------------------------------------------\n",
      "            #  # HSP  ID + description\n",
      "         ----  -----  ----------------------------------------------------------\n",
      "            0      1  gi|1753085588|ref|XM_004046895.3|  PREDICTED: Gorilla g...\n",
      "            1      1  gi|1533911343|ref|NG_062571.1|  Homo sapiens Sharpr-MPR...\n",
      "            2      1  gi|13325289|gb|BC004459.1|  Homo sapiens eukaryotic tra...\n",
      "            3      1  gi|32490467|dbj|AP006545.1|  Homo sapiens genomic DNA, ...\n",
      "            4      1  gi|11527778|dbj|AB044548.1|  Homo sapiens P/OKcl.6 mRNA...\n",
      "            5      1  gi|1849174759|ref|XM_034965947.1|  PREDICTED: Pan panis...\n",
      "            6      1  gi|1800049717|ref|XM_032143877.1|  PREDICTED: Hylobates...\n",
      "            7      1  gi|1743225505|ref|XM_030817110.1|  PREDICTED: Nomascus ...\n",
      "            8      1  gi|1212375685|ref|XM_012475988.2|  PREDICTED: Aotus nan...\n",
      "            9      1  gi|694926476|ref|XM_531121.4|  PREDICTED: Pan troglodyt...\n",
      "           10      1  gi|686727964|ref|XM_002819004.2|  PREDICTED: Pongo abel...\n",
      "           11      1  gi|1825823462|ref|XM_033230985.1|  PREDICTED: Trachypit...\n",
      "           12      1  gi|1622960011|ref|XM_015145167.2|  PREDICTED: Macaca mu...\n",
      "           13      1  gi|2161939469|ref|XM_005563062.3|  PREDICTED: Macaca fa...\n",
      "           14      1  gi|1933898186|ref|XM_017536445.2|  PREDICTED: Cebus imi...\n",
      "           15      1  gi|1804377216|ref|XM_032288236.1|  PREDICTED: Sapajus a...\n",
      "           16      1  gi|1751287756|ref|XR_004058302.1|  PREDICTED: Rhinopith...\n",
      "           17      1  gi|1482586634|ref|XM_023214560.2|  PREDICTED: Piliocolo...\n",
      "           18      1  gi|1411176226|ref|XM_025395178.1|  PREDICTED: Theropith...\n",
      "           19      1  gi|1381510690|ref|XM_011732662.2|  PREDICTED: Macaca ne...\n",
      "           20      1  gi|1220230671|ref|XM_003902649.3|  PREDICTED: Papio anu...\n",
      "           21      1  gi|1059159493|ref|XR_001887098.1|  PREDICTED: Rhinopith...\n",
      "           22      1  gi|1938891570|ref|XM_007962182.2|  PREDICTED: Chloroceb...\n",
      "           23      1  gi|1938858751|ref|XM_038003634.1|  PREDICTED: Chloroceb...\n",
      "           24      1  gi|1863962015|ref|XM_002756954.5|  PREDICTED: Callithri...\n",
      "           25      1  gi|164698142|dbj|AK312011.1|  Homo sapiens cDNA, FLJ922...\n",
      "           26      1  gi|1751298159|ref|XM_010385297.2|  PREDICTED: Rhinopith...\n",
      "           27      1  gi|1059106272|ref|XM_017849393.1|  PREDICTED: Rhinopith...\n",
      "           28      1  gi|795316613|ref|XM_012070671.1|  PREDICTED: Cercocebus...\n",
      "           29      1  gi|1825945357|ref|XM_033200923.1|  PREDICTED: Trachypit...\n",
      "           ~~~\n",
      "           47      1  gi|123994110|gb|DQ893731.2|  Synthetic construct Homo s...\n",
      "           48      1  gi|1845487493|ref|XM_002917228.4|  PREDICTED: Ailuropod...\n",
      "           49      1  gi|1811034771|ref|XM_032468407.1|  PREDICTED: Camelus f...\n"
     ]
    }
   ],
   "source": [
    "print(blastqresult)"
   ]
  },
  {
   "cell_type": "code",
   "execution_count": 10,
   "id": "806361e2",
   "metadata": {},
   "outputs": [
    {
     "name": "stdout",
     "output_type": "stream",
     "text": [
      "<class 'Bio.SearchIO._model.hit.Hit'>\n"
     ]
    }
   ],
   "source": [
    "print(type(blastqresult[0]))"
   ]
  },
  {
   "cell_type": "code",
   "execution_count": 12,
   "id": "c39dcb25",
   "metadata": {},
   "outputs": [
    {
     "name": "stdout",
     "output_type": "stream",
     "text": [
      "PREDICTED: Gorilla gorilla gorilla eukaryotic translation initiation factor 4E binding protein 1 (EIF4EBP1), mRNA\n"
     ]
    }
   ],
   "source": [
    "print(blastqresult[0].description)"
   ]
  },
  {
   "cell_type": "code",
   "execution_count": 16,
   "id": "bfe07838",
   "metadata": {},
   "outputs": [
    {
     "name": "stdout",
     "output_type": "stream",
     "text": [
      "gi|1753085588|ref|XM_004046895.3|\n"
     ]
    }
   ],
   "source": [
    "print(blastqresult[0].id)"
   ]
  }
 ],
 "metadata": {
  "kernelspec": {
   "display_name": "Python 3 (ipykernel)",
   "language": "python",
   "name": "python3"
  },
  "language_info": {
   "codemirror_mode": {
    "name": "ipython",
    "version": 3
   },
   "file_extension": ".py",
   "mimetype": "text/x-python",
   "name": "python",
   "nbconvert_exporter": "python",
   "pygments_lexer": "ipython3",
   "version": "3.10.2"
  }
 },
 "nbformat": 4,
 "nbformat_minor": 5
}
